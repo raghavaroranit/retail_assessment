{
 "cells": [
  {
   "cell_type": "markdown",
   "metadata": {},
   "source": [
    "## Retail Assessment :  \n",
    "#### Dated: 12.July.2020\n",
    "#### Author: Raghav Arora"
   ]
  },
  {
   "cell_type": "markdown",
   "metadata": {},
   "source": [
    "#### Objective: <br> <ol><li> Select the best performing products as to optimise the storage space.</li><br><li> Predict the demand for products as to ensure fast delivery in future</li></ol>"
   ]
  },
  {
   "cell_type": "markdown",
   "metadata": {},
   "source": [
    "### Installing necessary python modules"
   ]
  },
  {
   "cell_type": "code",
   "execution_count": 2,
   "metadata": {},
   "outputs": [],
   "source": [
    "import pandas as pd, datetime,  numpy as np\n",
    "from statsmodels.tsa.api import ExponentialSmoothing, SimpleExpSmoothing, Holt"
   ]
  },
  {
   "cell_type": "markdown",
   "metadata": {},
   "source": [
    "### Importing the dataset"
   ]
  },
  {
   "cell_type": "code",
   "execution_count": 3,
   "metadata": {},
   "outputs": [],
   "source": [
    "data =  pd.read_csv('data.csv', encoding = \"ISO-8859-1\", low_memory  = False)"
   ]
  },
  {
   "cell_type": "markdown",
   "metadata": {},
   "source": [
    "## 1. Data Exploration and Cleaning"
   ]
  },
  {
   "cell_type": "markdown",
   "metadata": {},
   "source": [
    "### Previewing the dataset"
   ]
  },
  {
   "cell_type": "code",
   "execution_count": 4,
   "metadata": {
    "scrolled": true
   },
   "outputs": [
    {
     "data": {
      "text/html": [
       "<div>\n",
       "<style scoped>\n",
       "    .dataframe tbody tr th:only-of-type {\n",
       "        vertical-align: middle;\n",
       "    }\n",
       "\n",
       "    .dataframe tbody tr th {\n",
       "        vertical-align: top;\n",
       "    }\n",
       "\n",
       "    .dataframe thead th {\n",
       "        text-align: right;\n",
       "    }\n",
       "</style>\n",
       "<table border=\"1\" class=\"dataframe\">\n",
       "  <thead>\n",
       "    <tr style=\"text-align: right;\">\n",
       "      <th></th>\n",
       "      <th>InvoiceNo</th>\n",
       "      <th>StockCode</th>\n",
       "      <th>Description</th>\n",
       "      <th>Quantity</th>\n",
       "      <th>InvoiceDate</th>\n",
       "      <th>UnitPrice</th>\n",
       "      <th>CustomerID</th>\n",
       "      <th>Country</th>\n",
       "    </tr>\n",
       "  </thead>\n",
       "  <tbody>\n",
       "    <tr>\n",
       "      <th>0</th>\n",
       "      <td>536365</td>\n",
       "      <td>85123A</td>\n",
       "      <td>WHITE HANGING HEART T-LIGHT HOLDER</td>\n",
       "      <td>6</td>\n",
       "      <td>12/1/2010 8:26</td>\n",
       "      <td>2.55</td>\n",
       "      <td>17850.0</td>\n",
       "      <td>United Kingdom</td>\n",
       "    </tr>\n",
       "    <tr>\n",
       "      <th>1</th>\n",
       "      <td>536365</td>\n",
       "      <td>71053</td>\n",
       "      <td>WHITE METAL LANTERN</td>\n",
       "      <td>6</td>\n",
       "      <td>12/1/2010 8:26</td>\n",
       "      <td>3.39</td>\n",
       "      <td>17850.0</td>\n",
       "      <td>United Kingdom</td>\n",
       "    </tr>\n",
       "    <tr>\n",
       "      <th>2</th>\n",
       "      <td>536365</td>\n",
       "      <td>84406B</td>\n",
       "      <td>CREAM CUPID HEARTS COAT HANGER</td>\n",
       "      <td>8</td>\n",
       "      <td>12/1/2010 8:26</td>\n",
       "      <td>2.75</td>\n",
       "      <td>17850.0</td>\n",
       "      <td>United Kingdom</td>\n",
       "    </tr>\n",
       "    <tr>\n",
       "      <th>3</th>\n",
       "      <td>536365</td>\n",
       "      <td>84029G</td>\n",
       "      <td>KNITTED UNION FLAG HOT WATER BOTTLE</td>\n",
       "      <td>6</td>\n",
       "      <td>12/1/2010 8:26</td>\n",
       "      <td>3.39</td>\n",
       "      <td>17850.0</td>\n",
       "      <td>United Kingdom</td>\n",
       "    </tr>\n",
       "    <tr>\n",
       "      <th>4</th>\n",
       "      <td>536365</td>\n",
       "      <td>84029E</td>\n",
       "      <td>RED WOOLLY HOTTIE WHITE HEART.</td>\n",
       "      <td>6</td>\n",
       "      <td>12/1/2010 8:26</td>\n",
       "      <td>3.39</td>\n",
       "      <td>17850.0</td>\n",
       "      <td>United Kingdom</td>\n",
       "    </tr>\n",
       "  </tbody>\n",
       "</table>\n",
       "</div>"
      ],
      "text/plain": [
       "  InvoiceNo StockCode                          Description  Quantity  \\\n",
       "0    536365    85123A   WHITE HANGING HEART T-LIGHT HOLDER         6   \n",
       "1    536365     71053                  WHITE METAL LANTERN         6   \n",
       "2    536365    84406B       CREAM CUPID HEARTS COAT HANGER         8   \n",
       "3    536365    84029G  KNITTED UNION FLAG HOT WATER BOTTLE         6   \n",
       "4    536365    84029E       RED WOOLLY HOTTIE WHITE HEART.         6   \n",
       "\n",
       "      InvoiceDate  UnitPrice  CustomerID         Country  \n",
       "0  12/1/2010 8:26       2.55     17850.0  United Kingdom  \n",
       "1  12/1/2010 8:26       3.39     17850.0  United Kingdom  \n",
       "2  12/1/2010 8:26       2.75     17850.0  United Kingdom  \n",
       "3  12/1/2010 8:26       3.39     17850.0  United Kingdom  \n",
       "4  12/1/2010 8:26       3.39     17850.0  United Kingdom  "
      ]
     },
     "execution_count": 4,
     "metadata": {},
     "output_type": "execute_result"
    }
   ],
   "source": [
    "data.head()"
   ]
  },
  {
   "cell_type": "code",
   "execution_count": 5,
   "metadata": {
    "scrolled": false
   },
   "outputs": [
    {
     "data": {
      "text/html": [
       "<div>\n",
       "<style scoped>\n",
       "    .dataframe tbody tr th:only-of-type {\n",
       "        vertical-align: middle;\n",
       "    }\n",
       "\n",
       "    .dataframe tbody tr th {\n",
       "        vertical-align: top;\n",
       "    }\n",
       "\n",
       "    .dataframe thead th {\n",
       "        text-align: right;\n",
       "    }\n",
       "</style>\n",
       "<table border=\"1\" class=\"dataframe\">\n",
       "  <thead>\n",
       "    <tr style=\"text-align: right;\">\n",
       "      <th></th>\n",
       "      <th>Quantity</th>\n",
       "      <th>UnitPrice</th>\n",
       "      <th>CustomerID</th>\n",
       "    </tr>\n",
       "  </thead>\n",
       "  <tbody>\n",
       "    <tr>\n",
       "      <th>count</th>\n",
       "      <td>541909.000000</td>\n",
       "      <td>541909.000000</td>\n",
       "      <td>406829.000000</td>\n",
       "    </tr>\n",
       "    <tr>\n",
       "      <th>mean</th>\n",
       "      <td>9.552250</td>\n",
       "      <td>4.611114</td>\n",
       "      <td>15287.690570</td>\n",
       "    </tr>\n",
       "    <tr>\n",
       "      <th>std</th>\n",
       "      <td>218.081158</td>\n",
       "      <td>96.759853</td>\n",
       "      <td>1713.600303</td>\n",
       "    </tr>\n",
       "    <tr>\n",
       "      <th>min</th>\n",
       "      <td>-80995.000000</td>\n",
       "      <td>-11062.060000</td>\n",
       "      <td>12346.000000</td>\n",
       "    </tr>\n",
       "    <tr>\n",
       "      <th>25%</th>\n",
       "      <td>1.000000</td>\n",
       "      <td>1.250000</td>\n",
       "      <td>13953.000000</td>\n",
       "    </tr>\n",
       "    <tr>\n",
       "      <th>50%</th>\n",
       "      <td>3.000000</td>\n",
       "      <td>2.080000</td>\n",
       "      <td>15152.000000</td>\n",
       "    </tr>\n",
       "    <tr>\n",
       "      <th>75%</th>\n",
       "      <td>10.000000</td>\n",
       "      <td>4.130000</td>\n",
       "      <td>16791.000000</td>\n",
       "    </tr>\n",
       "    <tr>\n",
       "      <th>max</th>\n",
       "      <td>80995.000000</td>\n",
       "      <td>38970.000000</td>\n",
       "      <td>18287.000000</td>\n",
       "    </tr>\n",
       "  </tbody>\n",
       "</table>\n",
       "</div>"
      ],
      "text/plain": [
       "            Quantity      UnitPrice     CustomerID\n",
       "count  541909.000000  541909.000000  406829.000000\n",
       "mean        9.552250       4.611114   15287.690570\n",
       "std       218.081158      96.759853    1713.600303\n",
       "min    -80995.000000  -11062.060000   12346.000000\n",
       "25%         1.000000       1.250000   13953.000000\n",
       "50%         3.000000       2.080000   15152.000000\n",
       "75%        10.000000       4.130000   16791.000000\n",
       "max     80995.000000   38970.000000   18287.000000"
      ]
     },
     "execution_count": 5,
     "metadata": {},
     "output_type": "execute_result"
    }
   ],
   "source": [
    "data.describe()"
   ]
  },
  {
   "cell_type": "markdown",
   "metadata": {},
   "source": [
    "#### Findings: Quantity and Unit Price has negative values, as per my understanding of the retail dataset, these cases can be assumed as Returns."
   ]
  },
  {
   "cell_type": "markdown",
   "metadata": {},
   "source": [
    "### Outliers Detection"
   ]
  },
  {
   "cell_type": "code",
   "execution_count": 6,
   "metadata": {
    "scrolled": true
   },
   "outputs": [
    {
     "data": {
      "text/plain": [
       "<matplotlib.axes._subplots.AxesSubplot at 0x238a6c49408>"
      ]
     },
     "execution_count": 6,
     "metadata": {},
     "output_type": "execute_result"
    },
    {
     "data": {
      "image/png": "[encoded data removed]",
      "text/plain": [
       "<Figure size 432x288 with 1 Axes>"
      ]
     },
     "metadata": {
      "needs_background": "light"
     },
     "output_type": "display_data"
    }
   ],
   "source": [
    "import seaborn as sns\n",
    "sns.boxplot(x=data['Quantity'])"
   ]
  },
  {
   "cell_type": "code",
   "execution_count": 7,
   "metadata": {
    "scrolled": true
   },
   "outputs": [
    {
     "name": "stdout",
     "output_type": "stream",
     "text": [
      "[0.01628867 0.01628867 0.00711777 ... 0.02545958 0.02545958 0.03004503]\n",
      "(array([  4287,   4850,   4945,   4946,   6365,  19871,  19980,  25920,\n",
      "        32671,  40060,  50849,  52133,  52134,  52709,  52710,  52711,\n",
      "        52771,  61619,  61624,  63444,  65063,  74614,  74615,  80742,\n",
      "        82205,  82794,  82795,  86503,  86504,  86505,  87631,  90259,\n",
      "        91772,  97432,  99936, 109467, 109469, 113580, 114539, 115488,\n",
      "       115505, 115807, 115810, 115818, 121857, 125281, 125282, 131399,\n",
      "       139503, 142700, 142702, 142749, 150272, 151033, 154571, 156350,\n",
      "       160142, 160143, 160144, 160145, 160541, 160542, 160543, 160545,\n",
      "       160546, 169123, 170511, 170513, 174654, 177702, 185113, 185919,\n",
      "       186820, 187609, 201149, 203751, 203752, 203761, 206121, 208170,\n",
      "       220843, 221186, 221722, 221744, 223446, 224419, 225528, 225529,\n",
      "       225530, 229728, 234739, 234740, 234764, 234765, 242906, 250766,\n",
      "       253989, 263884, 263885, 270885, 270886, 282289, 284437, 284452,\n",
      "       291247, 291249, 304989, 311391, 321040, 321304, 323458, 323469,\n",
      "       341601, 347563, 348316, 348317, 348318, 348322, 348325, 369674,\n",
      "       371176, 375427, 375428, 375429, 376061, 377448, 383960, 384010,\n",
      "       390544, 390548, 390552, 409248, 417792, 421601, 421632, 424310,\n",
      "       431376, 431377, 431378, 431379, 431381, 431383, 433788, 437480,\n",
      "       445127, 445128, 447035, 452218, 452365, 467796, 472841, 490502,\n",
      "       502122, 511421, 514735, 516562, 520003, 521375, 533812, 534952,\n",
      "       540070, 540071, 540421, 540422], dtype=int64),)\n"
     ]
    }
   ],
   "source": [
    "from scipy import stats\n",
    "import numpy as np\n",
    "z = np.abs(stats.zscore(data['Quantity']))\n",
    "print(z)\n",
    "threshold = 5\n",
    "print(np.where(z > threshold))\n"
   ]
  },
  {
   "cell_type": "markdown",
   "metadata": {},
   "source": [
    "### Checking missing values"
   ]
  },
  {
   "cell_type": "code",
   "execution_count": 8,
   "metadata": {
    "scrolled": false
   },
   "outputs": [
    {
     "data": {
      "text/plain": [
       "InvoiceNo           0\n",
       "StockCode           0\n",
       "Description      1454\n",
       "Quantity            0\n",
       "InvoiceDate         0\n",
       "UnitPrice           0\n",
       "CustomerID     135080\n",
       "Country             0\n",
       "dtype: int64"
      ]
     },
     "execution_count": 8,
     "metadata": {},
     "output_type": "execute_result"
    }
   ],
   "source": [
    "data.isna().sum()"
   ]
  },
  {
   "cell_type": "markdown",
   "metadata": {},
   "source": [
    "### Quantum of missing values in %"
   ]
  },
  {
   "cell_type": "code",
   "execution_count": 9,
   "metadata": {
    "scrolled": false
   },
   "outputs": [
    {
     "name": "stdout",
     "output_type": "stream",
     "text": [
      "Number of rows with blank Customer IDs: 24.93\n",
      "Number of rows with Description: 0.27\n"
     ]
    }
   ],
   "source": [
    "print('Number of rows with blank Customer IDs:',round((data['CustomerID'].isna().sum() * 100)/len(data),2))\n",
    "print('Number of rows with Description:',round((data['Description'].isna().sum() * 100)/len(data),2))\n"
   ]
  },
  {
   "cell_type": "markdown",
   "metadata": {},
   "source": [
    "#### Countries"
   ]
  },
  {
   "cell_type": "code",
   "execution_count": 10,
   "metadata": {},
   "outputs": [
    {
     "data": {
      "text/plain": [
       "array(['United Kingdom', 'France', 'Australia', 'Netherlands', 'Germany',\n",
       "       'Norway', 'EIRE', 'Switzerland', 'Spain', 'Poland', 'Portugal',\n",
       "       'Italy', 'Belgium', 'Lithuania', 'Japan', 'Iceland',\n",
       "       'Channel Islands', 'Denmark', 'Cyprus', 'Sweden', 'Austria',\n",
       "       'Israel', 'Finland', 'Bahrain', 'Greece', 'Hong Kong', 'Singapore',\n",
       "       'Lebanon', 'United Arab Emirates', 'Saudi Arabia',\n",
       "       'Czech Republic', 'Canada', 'Unspecified', 'Brazil', 'USA',\n",
       "       'European Community', 'Malta', 'RSA'], dtype=object)"
      ]
     },
     "execution_count": 10,
     "metadata": {},
     "output_type": "execute_result"
    }
   ],
   "source": [
    "data['Country'].unique()"
   ]
  },
  {
   "cell_type": "markdown",
   "metadata": {},
   "source": [
    "#### Cases with Unit price <=0"
   ]
  },
  {
   "cell_type": "code",
   "execution_count": 11,
   "metadata": {},
   "outputs": [
    {
     "data": {
      "text/plain": [
       "0.46446912673530055"
      ]
     },
     "execution_count": 11,
     "metadata": {},
     "output_type": "execute_result"
    }
   ],
   "source": [
    "((data['UnitPrice'] <= 0).sum()*100)/len(data)"
   ]
  },
  {
   "cell_type": "markdown",
   "metadata": {},
   "source": [
    "#### Cases with Quantity <=0"
   ]
  },
  {
   "cell_type": "code",
   "execution_count": 12,
   "metadata": {},
   "outputs": [
    {
     "data": {
      "text/plain": [
       "1.9604767590130445"
      ]
     },
     "execution_count": 12,
     "metadata": {},
     "output_type": "execute_result"
    }
   ],
   "source": [
    "((data['Quantity'] <= 0).sum()*100)/len(data)"
   ]
  },
  {
   "cell_type": "markdown",
   "metadata": {},
   "source": [
    "#### Cases with Quantity <=0 OR Unit price <=0"
   ]
  },
  {
   "cell_type": "code",
   "execution_count": 13,
   "metadata": {
    "scrolled": true
   },
   "outputs": [
    {
     "data": {
      "text/plain": [
       "2.178410028251976"
      ]
     },
     "execution_count": 13,
     "metadata": {},
     "output_type": "execute_result"
    }
   ],
   "source": [
    "(((data['Quantity'] <= 0) | (data['UnitPrice'] <= 0)).sum()*100)/len(data)"
   ]
  },
  {
   "cell_type": "markdown",
   "metadata": {},
   "source": [
    "#### Cases with Quantity <=0 OR Unit price <=0 OR Quantity against each stock in an invoice >=2000"
   ]
  },
  {
   "cell_type": "code",
   "execution_count": 14,
   "metadata": {},
   "outputs": [
    {
     "data": {
      "text/plain": [
       "2.182100684801323"
      ]
     },
     "execution_count": 14,
     "metadata": {},
     "output_type": "execute_result"
    }
   ],
   "source": [
    "(((data['Quantity'] <= 0) | (data['UnitPrice'] <= 0) | (data['Quantity'] > 2000)).sum()*100)/len(data)"
   ]
  },
  {
   "cell_type": "markdown",
   "metadata": {},
   "source": [
    "#### Cases with Quantity <=0 OR Unit Price <=0 OR Blank Customer ID"
   ]
  },
  {
   "cell_type": "code",
   "execution_count": 15,
   "metadata": {},
   "outputs": [
    {
     "data": {
      "text/plain": [
       "26.577340475983974"
      ]
     },
     "execution_count": 15,
     "metadata": {},
     "output_type": "execute_result"
    }
   ],
   "source": [
    "(((data['Quantity'] <= 0) | (data['UnitPrice'] <= 0) | (data['CustomerID'].isna() ==  True)).sum()*100)/len(data)"
   ]
  },
  {
   "cell_type": "markdown",
   "metadata": {},
   "source": [
    "### Cleaning the data"
   ]
  },
  {
   "cell_type": "markdown",
   "metadata": {},
   "source": [
    "### The dataset contains rows where the Quantity < 0, (these are either discounts or returns)."
   ]
  },
  {
   "cell_type": "markdown",
   "metadata": {},
   "source": [
    "#### Also, unit price has to be greater than 0, in the case of purchase"
   ]
  },
  {
   "cell_type": "code",
   "execution_count": 16,
   "metadata": {},
   "outputs": [],
   "source": [
    "data_purchased=data.loc[(data['UnitPrice']>0) & (data['Quantity']>0) & (data['Quantity']<=2000)]"
   ]
  },
  {
   "cell_type": "code",
   "execution_count": 17,
   "metadata": {},
   "outputs": [
    {
     "data": {
      "text/plain": [
       "530084"
      ]
     },
     "execution_count": 17,
     "metadata": {},
     "output_type": "execute_result"
    }
   ],
   "source": [
    "len(data_purchased)"
   ]
  },
  {
   "cell_type": "code",
   "execution_count": 18,
   "metadata": {
    "scrolled": true
   },
   "outputs": [],
   "source": [
    "data_purchased['InvoiceDate'] = pd.to_datetime(data_purchased['InvoiceDate'])"
   ]
  },
  {
   "cell_type": "code",
   "execution_count": 19,
   "metadata": {},
   "outputs": [
    {
     "data": {
      "text/html": [
       "<div>\n",
       "<style scoped>\n",
       "    .dataframe tbody tr th:only-of-type {\n",
       "        vertical-align: middle;\n",
       "    }\n",
       "\n",
       "    .dataframe tbody tr th {\n",
       "        vertical-align: top;\n",
       "    }\n",
       "\n",
       "    .dataframe thead th {\n",
       "        text-align: right;\n",
       "    }\n",
       "</style>\n",
       "<table border=\"1\" class=\"dataframe\">\n",
       "  <thead>\n",
       "    <tr style=\"text-align: right;\">\n",
       "      <th></th>\n",
       "      <th>InvoiceNo</th>\n",
       "      <th>StockCode</th>\n",
       "      <th>Description</th>\n",
       "      <th>Quantity</th>\n",
       "      <th>InvoiceDate</th>\n",
       "      <th>UnitPrice</th>\n",
       "      <th>CustomerID</th>\n",
       "      <th>Country</th>\n",
       "    </tr>\n",
       "  </thead>\n",
       "  <tbody>\n",
       "    <tr>\n",
       "      <th>0</th>\n",
       "      <td>536365</td>\n",
       "      <td>85123A</td>\n",
       "      <td>WHITE HANGING HEART T-LIGHT HOLDER</td>\n",
       "      <td>6</td>\n",
       "      <td>2010-12-01 08:26:00</td>\n",
       "      <td>2.55</td>\n",
       "      <td>17850.0</td>\n",
       "      <td>United Kingdom</td>\n",
       "    </tr>\n",
       "    <tr>\n",
       "      <th>1</th>\n",
       "      <td>536365</td>\n",
       "      <td>71053</td>\n",
       "      <td>WHITE METAL LANTERN</td>\n",
       "      <td>6</td>\n",
       "      <td>2010-12-01 08:26:00</td>\n",
       "      <td>3.39</td>\n",
       "      <td>17850.0</td>\n",
       "      <td>United Kingdom</td>\n",
       "    </tr>\n",
       "    <tr>\n",
       "      <th>2</th>\n",
       "      <td>536365</td>\n",
       "      <td>84406B</td>\n",
       "      <td>CREAM CUPID HEARTS COAT HANGER</td>\n",
       "      <td>8</td>\n",
       "      <td>2010-12-01 08:26:00</td>\n",
       "      <td>2.75</td>\n",
       "      <td>17850.0</td>\n",
       "      <td>United Kingdom</td>\n",
       "    </tr>\n",
       "    <tr>\n",
       "      <th>3</th>\n",
       "      <td>536365</td>\n",
       "      <td>84029G</td>\n",
       "      <td>KNITTED UNION FLAG HOT WATER BOTTLE</td>\n",
       "      <td>6</td>\n",
       "      <td>2010-12-01 08:26:00</td>\n",
       "      <td>3.39</td>\n",
       "      <td>17850.0</td>\n",
       "      <td>United Kingdom</td>\n",
       "    </tr>\n",
       "    <tr>\n",
       "      <th>4</th>\n",
       "      <td>536365</td>\n",
       "      <td>84029E</td>\n",
       "      <td>RED WOOLLY HOTTIE WHITE HEART.</td>\n",
       "      <td>6</td>\n",
       "      <td>2010-12-01 08:26:00</td>\n",
       "      <td>3.39</td>\n",
       "      <td>17850.0</td>\n",
       "      <td>United Kingdom</td>\n",
       "    </tr>\n",
       "  </tbody>\n",
       "</table>\n",
       "</div>"
      ],
      "text/plain": [
       "  InvoiceNo StockCode                          Description  Quantity  \\\n",
       "0    536365    85123A   WHITE HANGING HEART T-LIGHT HOLDER         6   \n",
       "1    536365     71053                  WHITE METAL LANTERN         6   \n",
       "2    536365    84406B       CREAM CUPID HEARTS COAT HANGER         8   \n",
       "3    536365    84029G  KNITTED UNION FLAG HOT WATER BOTTLE         6   \n",
       "4    536365    84029E       RED WOOLLY HOTTIE WHITE HEART.         6   \n",
       "\n",
       "          InvoiceDate  UnitPrice  CustomerID         Country  \n",
       "0 2010-12-01 08:26:00       2.55     17850.0  United Kingdom  \n",
       "1 2010-12-01 08:26:00       3.39     17850.0  United Kingdom  \n",
       "2 2010-12-01 08:26:00       2.75     17850.0  United Kingdom  \n",
       "3 2010-12-01 08:26:00       3.39     17850.0  United Kingdom  \n",
       "4 2010-12-01 08:26:00       3.39     17850.0  United Kingdom  "
      ]
     },
     "execution_count": 19,
     "metadata": {},
     "output_type": "execute_result"
    }
   ],
   "source": [
    "data_purchased.head()"
   ]
  },
  {
   "cell_type": "code",
   "execution_count": 20,
   "metadata": {},
   "outputs": [
    {
     "data": {
      "text/plain": [
       "524858"
      ]
     },
     "execution_count": 20,
     "metadata": {},
     "output_type": "execute_result"
    }
   ],
   "source": [
    "len(data_purchased.drop_duplicates())"
   ]
  },
  {
   "cell_type": "code",
   "execution_count": 21,
   "metadata": {},
   "outputs": [
    {
     "data": {
      "text/plain": [
       "519582"
      ]
     },
     "execution_count": 21,
     "metadata": {},
     "output_type": "execute_result"
    }
   ],
   "source": [
    "len(data_purchased[['InvoiceNo', 'StockCode' ]].drop_duplicates())"
   ]
  },
  {
   "cell_type": "markdown",
   "metadata": {},
   "source": [
    "#### Calculating Total Amount against Stock in an invoice"
   ]
  },
  {
   "cell_type": "code",
   "execution_count": 22,
   "metadata": {
    "scrolled": true
   },
   "outputs": [],
   "source": [
    "data_purchased['Amount'] = data_purchased['Quantity'] * data_purchased['UnitPrice']"
   ]
  },
  {
   "cell_type": "markdown",
   "metadata": {},
   "source": [
    "## 2.  Select the best performing products as to optimise the storage space."
   ]
  },
  {
   "cell_type": "markdown",
   "metadata": {},
   "source": [
    "#### Ranking the Stock based on the sold amount"
   ]
  },
  {
   "cell_type": "code",
   "execution_count": 23,
   "metadata": {
    "scrolled": false
   },
   "outputs": [],
   "source": [
    "data_purchased_stockwise_amount=data_purchased.groupby(['StockCode','Description']).agg({'Amount':sum}).sort_values(by='Amount', ascending =False)\n"
   ]
  },
  {
   "cell_type": "markdown",
   "metadata": {},
   "source": [
    "#### Top n Stocks"
   ]
  },
  {
   "cell_type": "code",
   "execution_count": 24,
   "metadata": {},
   "outputs": [],
   "source": [
    "n=5"
   ]
  },
  {
   "cell_type": "code",
   "execution_count": 25,
   "metadata": {
    "scrolled": true
   },
   "outputs": [
    {
     "data": {
      "text/html": [
       "<div>\n",
       "<style scoped>\n",
       "    .dataframe tbody tr th:only-of-type {\n",
       "        vertical-align: middle;\n",
       "    }\n",
       "\n",
       "    .dataframe tbody tr th {\n",
       "        vertical-align: top;\n",
       "    }\n",
       "\n",
       "    .dataframe thead th {\n",
       "        text-align: right;\n",
       "    }\n",
       "</style>\n",
       "<table border=\"1\" class=\"dataframe\">\n",
       "  <thead>\n",
       "    <tr style=\"text-align: right;\">\n",
       "      <th></th>\n",
       "      <th></th>\n",
       "      <th>Amount</th>\n",
       "    </tr>\n",
       "    <tr>\n",
       "      <th>StockCode</th>\n",
       "      <th>Description</th>\n",
       "      <th></th>\n",
       "    </tr>\n",
       "  </thead>\n",
       "  <tbody>\n",
       "    <tr>\n",
       "      <th>DOT</th>\n",
       "      <th>DOTCOM POSTAGE</th>\n",
       "      <td>206248.77</td>\n",
       "    </tr>\n",
       "    <tr>\n",
       "      <th>22423</th>\n",
       "      <th>REGENCY CAKESTAND 3 TIER</th>\n",
       "      <td>174484.74</td>\n",
       "    </tr>\n",
       "    <tr>\n",
       "      <th>85123A</th>\n",
       "      <th>WHITE HANGING HEART T-LIGHT HOLDER</th>\n",
       "      <td>104340.29</td>\n",
       "    </tr>\n",
       "    <tr>\n",
       "      <th>47566</th>\n",
       "      <th>PARTY BUNTING</th>\n",
       "      <td>99504.33</td>\n",
       "    </tr>\n",
       "    <tr>\n",
       "      <th>85099B</th>\n",
       "      <th>JUMBO BAG RED RETROSPOT</th>\n",
       "      <td>94340.05</td>\n",
       "    </tr>\n",
       "  </tbody>\n",
       "</table>\n",
       "</div>"
      ],
      "text/plain": [
       "                                                 Amount\n",
       "StockCode Description                                  \n",
       "DOT       DOTCOM POSTAGE                      206248.77\n",
       "22423     REGENCY CAKESTAND 3 TIER            174484.74\n",
       "85123A    WHITE HANGING HEART T-LIGHT HOLDER  104340.29\n",
       "47566     PARTY BUNTING                        99504.33\n",
       "85099B    JUMBO BAG RED RETROSPOT              94340.05"
      ]
     },
     "execution_count": 25,
     "metadata": {},
     "output_type": "execute_result"
    }
   ],
   "source": [
    "data_purchased_stockwise_amount.head(n)"
   ]
  },
  {
   "cell_type": "markdown",
   "metadata": {},
   "source": [
    "#### Exporting the data"
   ]
  },
  {
   "cell_type": "code",
   "execution_count": 26,
   "metadata": {},
   "outputs": [],
   "source": [
    "data_purchased_stockwise_amount.to_csv('outputs/data_purchased_stockwise_amount.csv')"
   ]
  },
  {
   "cell_type": "markdown",
   "metadata": {},
   "source": [
    "#### Top Stocks on the basis of Sold Amount (Country wise)"
   ]
  },
  {
   "cell_type": "code",
   "execution_count": 27,
   "metadata": {},
   "outputs": [],
   "source": [
    "data_purchased_stockwise_amount_country_wise=data_purchased.groupby(['Country','StockCode','Description']).agg({'Amount':sum}).sort_values(by='Amount', ascending =False)\n",
    "# "
   ]
  },
  {
   "cell_type": "code",
   "execution_count": 28,
   "metadata": {},
   "outputs": [],
   "source": [
    "data_purchased_stockwise_amount_country_wise['Rank']=data_purchased_stockwise_amount_country_wise.groupby('Country').rank(ascending=False)"
   ]
  },
  {
   "cell_type": "markdown",
   "metadata": {},
   "source": [
    "#### Top n stocks by country"
   ]
  },
  {
   "cell_type": "code",
   "execution_count": 29,
   "metadata": {
    "scrolled": false
   },
   "outputs": [
    {
     "data": {
      "text/html": [
       "<div>\n",
       "<style scoped>\n",
       "    .dataframe tbody tr th:only-of-type {\n",
       "        vertical-align: middle;\n",
       "    }\n",
       "\n",
       "    .dataframe tbody tr th {\n",
       "        vertical-align: top;\n",
       "    }\n",
       "\n",
       "    .dataframe thead th {\n",
       "        text-align: right;\n",
       "    }\n",
       "</style>\n",
       "<table border=\"1\" class=\"dataframe\">\n",
       "  <thead>\n",
       "    <tr style=\"text-align: right;\">\n",
       "      <th></th>\n",
       "      <th></th>\n",
       "      <th></th>\n",
       "      <th>Amount</th>\n",
       "      <th>Rank</th>\n",
       "    </tr>\n",
       "    <tr>\n",
       "      <th>Country</th>\n",
       "      <th>StockCode</th>\n",
       "      <th>Description</th>\n",
       "      <th></th>\n",
       "      <th></th>\n",
       "    </tr>\n",
       "  </thead>\n",
       "  <tbody>\n",
       "    <tr>\n",
       "      <th rowspan=\"5\" valign=\"top\">United Kingdom</th>\n",
       "      <th>DOT</th>\n",
       "      <th>DOTCOM POSTAGE</th>\n",
       "      <td>206248.77</td>\n",
       "      <td>1.0</td>\n",
       "    </tr>\n",
       "    <tr>\n",
       "      <th>22423</th>\n",
       "      <th>REGENCY CAKESTAND 3 TIER</th>\n",
       "      <td>142273.29</td>\n",
       "      <td>2.0</td>\n",
       "    </tr>\n",
       "    <tr>\n",
       "      <th>85123A</th>\n",
       "      <th>WHITE HANGING HEART T-LIGHT HOLDER</th>\n",
       "      <td>98545.24</td>\n",
       "      <td>3.0</td>\n",
       "    </tr>\n",
       "    <tr>\n",
       "      <th>47566</th>\n",
       "      <th>PARTY BUNTING</th>\n",
       "      <td>93658.53</td>\n",
       "      <td>4.0</td>\n",
       "    </tr>\n",
       "    <tr>\n",
       "      <th>85099B</th>\n",
       "      <th>JUMBO BAG RED RETROSPOT</th>\n",
       "      <td>86471.34</td>\n",
       "      <td>5.0</td>\n",
       "    </tr>\n",
       "    <tr>\n",
       "      <th>...</th>\n",
       "      <th>...</th>\n",
       "      <th>...</th>\n",
       "      <td>...</td>\n",
       "      <td>...</td>\n",
       "    </tr>\n",
       "    <tr>\n",
       "      <th rowspan=\"5\" valign=\"top\">Saudi Arabia</th>\n",
       "      <th>22555</th>\n",
       "      <th>PLASTERS IN TIN STRONGMAN</th>\n",
       "      <td>19.80</td>\n",
       "      <td>2.0</td>\n",
       "    </tr>\n",
       "    <tr>\n",
       "      <th>22553</th>\n",
       "      <th>PLASTERS IN TIN SKULLS</th>\n",
       "      <td>19.80</td>\n",
       "      <td>2.0</td>\n",
       "    </tr>\n",
       "    <tr>\n",
       "      <th>22361</th>\n",
       "      <th>GLASS JAR DAISY FRESH COTTON WOOL</th>\n",
       "      <td>17.70</td>\n",
       "      <td>5.0</td>\n",
       "    </tr>\n",
       "    <tr>\n",
       "      <th>22362</th>\n",
       "      <th>GLASS JAR PEACOCK BATH SALTS</th>\n",
       "      <td>17.70</td>\n",
       "      <td>5.0</td>\n",
       "    </tr>\n",
       "    <tr>\n",
       "      <th>22363</th>\n",
       "      <th>GLASS JAR MARMALADE</th>\n",
       "      <td>17.70</td>\n",
       "      <td>5.0</td>\n",
       "    </tr>\n",
       "  </tbody>\n",
       "</table>\n",
       "<p>185 rows × 2 columns</p>\n",
       "</div>"
      ],
      "text/plain": [
       "                                                                Amount  Rank\n",
       "Country        StockCode Description                                        \n",
       "United Kingdom DOT       DOTCOM POSTAGE                      206248.77   1.0\n",
       "               22423     REGENCY CAKESTAND 3 TIER            142273.29   2.0\n",
       "               85123A    WHITE HANGING HEART T-LIGHT HOLDER   98545.24   3.0\n",
       "               47566     PARTY BUNTING                        93658.53   4.0\n",
       "               85099B    JUMBO BAG RED RETROSPOT              86471.34   5.0\n",
       "...                                                                ...   ...\n",
       "Saudi Arabia   22555     PLASTERS IN TIN STRONGMAN               19.80   2.0\n",
       "               22553     PLASTERS IN TIN SKULLS                  19.80   2.0\n",
       "               22361     GLASS JAR DAISY FRESH COTTON WOOL       17.70   5.0\n",
       "               22362     GLASS JAR PEACOCK BATH SALTS            17.70   5.0\n",
       "               22363     GLASS JAR MARMALADE                     17.70   5.0\n",
       "\n",
       "[185 rows x 2 columns]"
      ]
     },
     "execution_count": 29,
     "metadata": {},
     "output_type": "execute_result"
    }
   ],
   "source": [
    "data_purchased_stockwise_amount_country_wise.loc[data_purchased_stockwise_amount_country_wise[\"Rank\"]<=n]"
   ]
  },
  {
   "cell_type": "markdown",
   "metadata": {},
   "source": [
    "##### Exporting the data"
   ]
  },
  {
   "cell_type": "code",
   "execution_count": 30,
   "metadata": {},
   "outputs": [],
   "source": [
    "data_purchased_stockwise_amount_country_wise.to_csv('outputs/data_purchased_stockwise_amount_country_wise.csv')"
   ]
  },
  {
   "cell_type": "markdown",
   "metadata": {},
   "source": [
    "## 3.  Predict the demand for products as to ensure fast delivery in future"
   ]
  },
  {
   "cell_type": "markdown",
   "metadata": {},
   "source": [
    "### Preparing time series data for forecasting the demand"
   ]
  },
  {
   "cell_type": "markdown",
   "metadata": {},
   "source": [
    "##### Extracting date from datetime"
   ]
  },
  {
   "cell_type": "code",
   "execution_count": 31,
   "metadata": {
    "scrolled": true
   },
   "outputs": [],
   "source": [
    "data_purchased['Date']=data_purchased['InvoiceDate'].dt.date"
   ]
  },
  {
   "cell_type": "markdown",
   "metadata": {},
   "source": [
    "##### Casting date as Year-Month"
   ]
  },
  {
   "cell_type": "code",
   "execution_count": 32,
   "metadata": {},
   "outputs": [],
   "source": [
    "data_purchased['Year_month']=data_purchased['InvoiceDate'].dt.strftime('%Y%m')"
   ]
  },
  {
   "cell_type": "markdown",
   "metadata": {},
   "source": [
    "#### Creating timeseries data ( 'Stock-Decsription', 'Year-month') wise sold quantity"
   ]
  },
  {
   "cell_type": "code",
   "execution_count": 33,
   "metadata": {},
   "outputs": [],
   "source": [
    "data_purchased_stock_ts=data_purchased.groupby(['Description', 'Year_month']).agg({'Quantity':sum}).reset_index()"
   ]
  },
  {
   "cell_type": "code",
   "execution_count": 34,
   "metadata": {},
   "outputs": [],
   "source": [
    "data_purchased_stock_ts_reshaped=data_purchased_stock_ts.loc[data_purchased_stock_ts['Quantity'] > 6].pivot_table(index='Description',columns='Year_month',values='Quantity', aggfunc=sum)"
   ]
  },
  {
   "cell_type": "code",
   "execution_count": 35,
   "metadata": {},
   "outputs": [
    {
     "data": {
      "text/html": [
       "<div>\n",
       "<style scoped>\n",
       "    .dataframe tbody tr th:only-of-type {\n",
       "        vertical-align: middle;\n",
       "    }\n",
       "\n",
       "    .dataframe tbody tr th {\n",
       "        vertical-align: top;\n",
       "    }\n",
       "\n",
       "    .dataframe thead th {\n",
       "        text-align: right;\n",
       "    }\n",
       "</style>\n",
       "<table border=\"1\" class=\"dataframe\">\n",
       "  <thead>\n",
       "    <tr style=\"text-align: right;\">\n",
       "      <th>Year_month</th>\n",
       "      <th>201012</th>\n",
       "      <th>201101</th>\n",
       "      <th>201102</th>\n",
       "      <th>201103</th>\n",
       "      <th>201104</th>\n",
       "      <th>201105</th>\n",
       "      <th>201106</th>\n",
       "      <th>201107</th>\n",
       "      <th>201108</th>\n",
       "      <th>201109</th>\n",
       "      <th>201110</th>\n",
       "      <th>201111</th>\n",
       "      <th>201112</th>\n",
       "    </tr>\n",
       "    <tr>\n",
       "      <th>Description</th>\n",
       "      <th></th>\n",
       "      <th></th>\n",
       "      <th></th>\n",
       "      <th></th>\n",
       "      <th></th>\n",
       "      <th></th>\n",
       "      <th></th>\n",
       "      <th></th>\n",
       "      <th></th>\n",
       "      <th></th>\n",
       "      <th></th>\n",
       "      <th></th>\n",
       "      <th></th>\n",
       "    </tr>\n",
       "  </thead>\n",
       "  <tbody>\n",
       "    <tr>\n",
       "      <th>4 PURPLE FLOCK DINNER CANDLES</th>\n",
       "      <td>16.0</td>\n",
       "      <td>NaN</td>\n",
       "      <td>NaN</td>\n",
       "      <td>NaN</td>\n",
       "      <td>8.0</td>\n",
       "      <td>NaN</td>\n",
       "      <td>NaN</td>\n",
       "      <td>NaN</td>\n",
       "      <td>NaN</td>\n",
       "      <td>9.0</td>\n",
       "      <td>NaN</td>\n",
       "      <td>47.0</td>\n",
       "      <td>49.0</td>\n",
       "    </tr>\n",
       "    <tr>\n",
       "      <th>50'S CHRISTMAS GIFT BAG LARGE</th>\n",
       "      <td>NaN</td>\n",
       "      <td>NaN</td>\n",
       "      <td>NaN</td>\n",
       "      <td>NaN</td>\n",
       "      <td>NaN</td>\n",
       "      <td>NaN</td>\n",
       "      <td>NaN</td>\n",
       "      <td>NaN</td>\n",
       "      <td>26.0</td>\n",
       "      <td>331.0</td>\n",
       "      <td>999.0</td>\n",
       "      <td>496.0</td>\n",
       "      <td>63.0</td>\n",
       "    </tr>\n",
       "    <tr>\n",
       "      <th>DOLLY GIRL BEAKER</th>\n",
       "      <td>NaN</td>\n",
       "      <td>NaN</td>\n",
       "      <td>NaN</td>\n",
       "      <td>NaN</td>\n",
       "      <td>NaN</td>\n",
       "      <td>NaN</td>\n",
       "      <td>NaN</td>\n",
       "      <td>70.0</td>\n",
       "      <td>955.0</td>\n",
       "      <td>625.0</td>\n",
       "      <td>558.0</td>\n",
       "      <td>167.0</td>\n",
       "      <td>80.0</td>\n",
       "    </tr>\n",
       "    <tr>\n",
       "      <th>I LOVE LONDON MINI BACKPACK</th>\n",
       "      <td>NaN</td>\n",
       "      <td>NaN</td>\n",
       "      <td>NaN</td>\n",
       "      <td>NaN</td>\n",
       "      <td>NaN</td>\n",
       "      <td>NaN</td>\n",
       "      <td>NaN</td>\n",
       "      <td>NaN</td>\n",
       "      <td>NaN</td>\n",
       "      <td>147.0</td>\n",
       "      <td>60.0</td>\n",
       "      <td>156.0</td>\n",
       "      <td>26.0</td>\n",
       "    </tr>\n",
       "    <tr>\n",
       "      <th>NINE DRAWER OFFICE TIDY</th>\n",
       "      <td>NaN</td>\n",
       "      <td>NaN</td>\n",
       "      <td>NaN</td>\n",
       "      <td>NaN</td>\n",
       "      <td>NaN</td>\n",
       "      <td>NaN</td>\n",
       "      <td>NaN</td>\n",
       "      <td>NaN</td>\n",
       "      <td>NaN</td>\n",
       "      <td>NaN</td>\n",
       "      <td>32.0</td>\n",
       "      <td>18.0</td>\n",
       "      <td>9.0</td>\n",
       "    </tr>\n",
       "    <tr>\n",
       "      <th>...</th>\n",
       "      <td>...</td>\n",
       "      <td>...</td>\n",
       "      <td>...</td>\n",
       "      <td>...</td>\n",
       "      <td>...</td>\n",
       "      <td>...</td>\n",
       "      <td>...</td>\n",
       "      <td>...</td>\n",
       "      <td>...</td>\n",
       "      <td>...</td>\n",
       "      <td>...</td>\n",
       "      <td>...</td>\n",
       "      <td>...</td>\n",
       "    </tr>\n",
       "    <tr>\n",
       "      <th>ZINC T-LIGHT HOLDER STARS SMALL</th>\n",
       "      <td>NaN</td>\n",
       "      <td>NaN</td>\n",
       "      <td>NaN</td>\n",
       "      <td>NaN</td>\n",
       "      <td>327.0</td>\n",
       "      <td>1339.0</td>\n",
       "      <td>384.0</td>\n",
       "      <td>473.0</td>\n",
       "      <td>468.0</td>\n",
       "      <td>610.0</td>\n",
       "      <td>559.0</td>\n",
       "      <td>768.0</td>\n",
       "      <td>161.0</td>\n",
       "    </tr>\n",
       "    <tr>\n",
       "      <th>ZINC TOP  2 DOOR WOODEN SHELF</th>\n",
       "      <td>NaN</td>\n",
       "      <td>7.0</td>\n",
       "      <td>NaN</td>\n",
       "      <td>NaN</td>\n",
       "      <td>NaN</td>\n",
       "      <td>NaN</td>\n",
       "      <td>NaN</td>\n",
       "      <td>NaN</td>\n",
       "      <td>NaN</td>\n",
       "      <td>NaN</td>\n",
       "      <td>NaN</td>\n",
       "      <td>NaN</td>\n",
       "      <td>NaN</td>\n",
       "    </tr>\n",
       "    <tr>\n",
       "      <th>ZINC WILLIE WINKIE  CANDLE STICK</th>\n",
       "      <td>226.0</td>\n",
       "      <td>118.0</td>\n",
       "      <td>140.0</td>\n",
       "      <td>60.0</td>\n",
       "      <td>118.0</td>\n",
       "      <td>115.0</td>\n",
       "      <td>138.0</td>\n",
       "      <td>112.0</td>\n",
       "      <td>150.0</td>\n",
       "      <td>365.0</td>\n",
       "      <td>598.0</td>\n",
       "      <td>625.0</td>\n",
       "      <td>169.0</td>\n",
       "    </tr>\n",
       "    <tr>\n",
       "      <th>ZINC WIRE KITCHEN ORGANISER</th>\n",
       "      <td>NaN</td>\n",
       "      <td>NaN</td>\n",
       "      <td>NaN</td>\n",
       "      <td>NaN</td>\n",
       "      <td>NaN</td>\n",
       "      <td>NaN</td>\n",
       "      <td>NaN</td>\n",
       "      <td>NaN</td>\n",
       "      <td>NaN</td>\n",
       "      <td>NaN</td>\n",
       "      <td>NaN</td>\n",
       "      <td>NaN</td>\n",
       "      <td>16.0</td>\n",
       "    </tr>\n",
       "    <tr>\n",
       "      <th>ZINC WIRE SWEETHEART LETTER TRAY</th>\n",
       "      <td>NaN</td>\n",
       "      <td>NaN</td>\n",
       "      <td>NaN</td>\n",
       "      <td>NaN</td>\n",
       "      <td>29.0</td>\n",
       "      <td>7.0</td>\n",
       "      <td>9.0</td>\n",
       "      <td>NaN</td>\n",
       "      <td>NaN</td>\n",
       "      <td>NaN</td>\n",
       "      <td>8.0</td>\n",
       "      <td>10.0</td>\n",
       "      <td>13.0</td>\n",
       "    </tr>\n",
       "  </tbody>\n",
       "</table>\n",
       "<p>3513 rows × 13 columns</p>\n",
       "</div>"
      ],
      "text/plain": [
       "Year_month                        201012  201101  201102  201103  201104  \\\n",
       "Description                                                                \n",
       " 4 PURPLE FLOCK DINNER CANDLES      16.0     NaN     NaN     NaN     8.0   \n",
       " 50'S CHRISTMAS GIFT BAG LARGE       NaN     NaN     NaN     NaN     NaN   \n",
       " DOLLY GIRL BEAKER                   NaN     NaN     NaN     NaN     NaN   \n",
       " I LOVE LONDON MINI BACKPACK         NaN     NaN     NaN     NaN     NaN   \n",
       " NINE DRAWER OFFICE TIDY             NaN     NaN     NaN     NaN     NaN   \n",
       "...                                  ...     ...     ...     ...     ...   \n",
       "ZINC T-LIGHT HOLDER STARS SMALL      NaN     NaN     NaN     NaN   327.0   \n",
       "ZINC TOP  2 DOOR WOODEN SHELF        NaN     7.0     NaN     NaN     NaN   \n",
       "ZINC WILLIE WINKIE  CANDLE STICK   226.0   118.0   140.0    60.0   118.0   \n",
       "ZINC WIRE KITCHEN ORGANISER          NaN     NaN     NaN     NaN     NaN   \n",
       "ZINC WIRE SWEETHEART LETTER TRAY     NaN     NaN     NaN     NaN    29.0   \n",
       "\n",
       "Year_month                        201105  201106  201107  201108  201109  \\\n",
       "Description                                                                \n",
       " 4 PURPLE FLOCK DINNER CANDLES       NaN     NaN     NaN     NaN     9.0   \n",
       " 50'S CHRISTMAS GIFT BAG LARGE       NaN     NaN     NaN    26.0   331.0   \n",
       " DOLLY GIRL BEAKER                   NaN     NaN    70.0   955.0   625.0   \n",
       " I LOVE LONDON MINI BACKPACK         NaN     NaN     NaN     NaN   147.0   \n",
       " NINE DRAWER OFFICE TIDY             NaN     NaN     NaN     NaN     NaN   \n",
       "...                                  ...     ...     ...     ...     ...   \n",
       "ZINC T-LIGHT HOLDER STARS SMALL   1339.0   384.0   473.0   468.0   610.0   \n",
       "ZINC TOP  2 DOOR WOODEN SHELF        NaN     NaN     NaN     NaN     NaN   \n",
       "ZINC WILLIE WINKIE  CANDLE STICK   115.0   138.0   112.0   150.0   365.0   \n",
       "ZINC WIRE KITCHEN ORGANISER          NaN     NaN     NaN     NaN     NaN   \n",
       "ZINC WIRE SWEETHEART LETTER TRAY     7.0     9.0     NaN     NaN     NaN   \n",
       "\n",
       "Year_month                        201110  201111  201112  \n",
       "Description                                               \n",
       " 4 PURPLE FLOCK DINNER CANDLES       NaN    47.0    49.0  \n",
       " 50'S CHRISTMAS GIFT BAG LARGE     999.0   496.0    63.0  \n",
       " DOLLY GIRL BEAKER                 558.0   167.0    80.0  \n",
       " I LOVE LONDON MINI BACKPACK        60.0   156.0    26.0  \n",
       " NINE DRAWER OFFICE TIDY            32.0    18.0     9.0  \n",
       "...                                  ...     ...     ...  \n",
       "ZINC T-LIGHT HOLDER STARS SMALL    559.0   768.0   161.0  \n",
       "ZINC TOP  2 DOOR WOODEN SHELF        NaN     NaN     NaN  \n",
       "ZINC WILLIE WINKIE  CANDLE STICK   598.0   625.0   169.0  \n",
       "ZINC WIRE KITCHEN ORGANISER          NaN     NaN    16.0  \n",
       "ZINC WIRE SWEETHEART LETTER TRAY     8.0    10.0    13.0  \n",
       "\n",
       "[3513 rows x 13 columns]"
      ]
     },
     "execution_count": 35,
     "metadata": {},
     "output_type": "execute_result"
    }
   ],
   "source": [
    "data_purchased_stock_ts_reshaped"
   ]
  },
  {
   "cell_type": "code",
   "execution_count": 36,
   "metadata": {},
   "outputs": [],
   "source": [
    "data_purchased_stock_ts_reshaped['Not Blank']=data_purchased_stock_ts_reshaped.notnull().sum(axis=1)"
   ]
  },
  {
   "cell_type": "code",
   "execution_count": 37,
   "metadata": {
    "scrolled": true
   },
   "outputs": [
    {
     "data": {
      "text/html": [
       "<div>\n",
       "<style scoped>\n",
       "    .dataframe tbody tr th:only-of-type {\n",
       "        vertical-align: middle;\n",
       "    }\n",
       "\n",
       "    .dataframe tbody tr th {\n",
       "        vertical-align: top;\n",
       "    }\n",
       "\n",
       "    .dataframe thead th {\n",
       "        text-align: right;\n",
       "    }\n",
       "</style>\n",
       "<table border=\"1\" class=\"dataframe\">\n",
       "  <thead>\n",
       "    <tr style=\"text-align: right;\">\n",
       "      <th>Year_month</th>\n",
       "      <th>201012</th>\n",
       "      <th>201101</th>\n",
       "      <th>201102</th>\n",
       "      <th>201103</th>\n",
       "      <th>201104</th>\n",
       "      <th>201105</th>\n",
       "      <th>201106</th>\n",
       "      <th>201107</th>\n",
       "      <th>201108</th>\n",
       "      <th>201109</th>\n",
       "      <th>201110</th>\n",
       "      <th>201111</th>\n",
       "      <th>201112</th>\n",
       "      <th>Not Blank</th>\n",
       "    </tr>\n",
       "    <tr>\n",
       "      <th>Description</th>\n",
       "      <th></th>\n",
       "      <th></th>\n",
       "      <th></th>\n",
       "      <th></th>\n",
       "      <th></th>\n",
       "      <th></th>\n",
       "      <th></th>\n",
       "      <th></th>\n",
       "      <th></th>\n",
       "      <th></th>\n",
       "      <th></th>\n",
       "      <th></th>\n",
       "      <th></th>\n",
       "      <th></th>\n",
       "    </tr>\n",
       "  </thead>\n",
       "  <tbody>\n",
       "    <tr>\n",
       "      <th>4 PURPLE FLOCK DINNER CANDLES</th>\n",
       "      <td>16.0</td>\n",
       "      <td>NaN</td>\n",
       "      <td>NaN</td>\n",
       "      <td>NaN</td>\n",
       "      <td>8.0</td>\n",
       "      <td>NaN</td>\n",
       "      <td>NaN</td>\n",
       "      <td>NaN</td>\n",
       "      <td>NaN</td>\n",
       "      <td>9.0</td>\n",
       "      <td>NaN</td>\n",
       "      <td>47.0</td>\n",
       "      <td>49.0</td>\n",
       "      <td>5</td>\n",
       "    </tr>\n",
       "    <tr>\n",
       "      <th>50'S CHRISTMAS GIFT BAG LARGE</th>\n",
       "      <td>NaN</td>\n",
       "      <td>NaN</td>\n",
       "      <td>NaN</td>\n",
       "      <td>NaN</td>\n",
       "      <td>NaN</td>\n",
       "      <td>NaN</td>\n",
       "      <td>NaN</td>\n",
       "      <td>NaN</td>\n",
       "      <td>26.0</td>\n",
       "      <td>331.0</td>\n",
       "      <td>999.0</td>\n",
       "      <td>496.0</td>\n",
       "      <td>63.0</td>\n",
       "      <td>5</td>\n",
       "    </tr>\n",
       "    <tr>\n",
       "      <th>DOLLY GIRL BEAKER</th>\n",
       "      <td>NaN</td>\n",
       "      <td>NaN</td>\n",
       "      <td>NaN</td>\n",
       "      <td>NaN</td>\n",
       "      <td>NaN</td>\n",
       "      <td>NaN</td>\n",
       "      <td>NaN</td>\n",
       "      <td>70.0</td>\n",
       "      <td>955.0</td>\n",
       "      <td>625.0</td>\n",
       "      <td>558.0</td>\n",
       "      <td>167.0</td>\n",
       "      <td>80.0</td>\n",
       "      <td>6</td>\n",
       "    </tr>\n",
       "    <tr>\n",
       "      <th>I LOVE LONDON MINI BACKPACK</th>\n",
       "      <td>NaN</td>\n",
       "      <td>NaN</td>\n",
       "      <td>NaN</td>\n",
       "      <td>NaN</td>\n",
       "      <td>NaN</td>\n",
       "      <td>NaN</td>\n",
       "      <td>NaN</td>\n",
       "      <td>NaN</td>\n",
       "      <td>NaN</td>\n",
       "      <td>147.0</td>\n",
       "      <td>60.0</td>\n",
       "      <td>156.0</td>\n",
       "      <td>26.0</td>\n",
       "      <td>4</td>\n",
       "    </tr>\n",
       "    <tr>\n",
       "      <th>NINE DRAWER OFFICE TIDY</th>\n",
       "      <td>NaN</td>\n",
       "      <td>NaN</td>\n",
       "      <td>NaN</td>\n",
       "      <td>NaN</td>\n",
       "      <td>NaN</td>\n",
       "      <td>NaN</td>\n",
       "      <td>NaN</td>\n",
       "      <td>NaN</td>\n",
       "      <td>NaN</td>\n",
       "      <td>NaN</td>\n",
       "      <td>32.0</td>\n",
       "      <td>18.0</td>\n",
       "      <td>9.0</td>\n",
       "      <td>3</td>\n",
       "    </tr>\n",
       "  </tbody>\n",
       "</table>\n",
       "</div>"
      ],
      "text/plain": [
       "Year_month                      201012  201101  201102  201103  201104  \\\n",
       "Description                                                              \n",
       " 4 PURPLE FLOCK DINNER CANDLES    16.0     NaN     NaN     NaN     8.0   \n",
       " 50'S CHRISTMAS GIFT BAG LARGE     NaN     NaN     NaN     NaN     NaN   \n",
       " DOLLY GIRL BEAKER                 NaN     NaN     NaN     NaN     NaN   \n",
       " I LOVE LONDON MINI BACKPACK       NaN     NaN     NaN     NaN     NaN   \n",
       " NINE DRAWER OFFICE TIDY           NaN     NaN     NaN     NaN     NaN   \n",
       "\n",
       "Year_month                      201105  201106  201107  201108  201109  \\\n",
       "Description                                                              \n",
       " 4 PURPLE FLOCK DINNER CANDLES     NaN     NaN     NaN     NaN     9.0   \n",
       " 50'S CHRISTMAS GIFT BAG LARGE     NaN     NaN     NaN    26.0   331.0   \n",
       " DOLLY GIRL BEAKER                 NaN     NaN    70.0   955.0   625.0   \n",
       " I LOVE LONDON MINI BACKPACK       NaN     NaN     NaN     NaN   147.0   \n",
       " NINE DRAWER OFFICE TIDY           NaN     NaN     NaN     NaN     NaN   \n",
       "\n",
       "Year_month                      201110  201111  201112  Not Blank  \n",
       "Description                                                        \n",
       " 4 PURPLE FLOCK DINNER CANDLES     NaN    47.0    49.0          5  \n",
       " 50'S CHRISTMAS GIFT BAG LARGE   999.0   496.0    63.0          5  \n",
       " DOLLY GIRL BEAKER               558.0   167.0    80.0          6  \n",
       " I LOVE LONDON MINI BACKPACK      60.0   156.0    26.0          4  \n",
       " NINE DRAWER OFFICE TIDY          32.0    18.0     9.0          3  "
      ]
     },
     "execution_count": 37,
     "metadata": {},
     "output_type": "execute_result"
    }
   ],
   "source": [
    "data_purchased_stock_ts_reshaped.head(5)"
   ]
  },
  {
   "cell_type": "code",
   "execution_count": 38,
   "metadata": {},
   "outputs": [
    {
     "data": {
      "text/html": [
       "<div>\n",
       "<style scoped>\n",
       "    .dataframe tbody tr th:only-of-type {\n",
       "        vertical-align: middle;\n",
       "    }\n",
       "\n",
       "    .dataframe tbody tr th {\n",
       "        vertical-align: top;\n",
       "    }\n",
       "\n",
       "    .dataframe thead th {\n",
       "        text-align: right;\n",
       "    }\n",
       "</style>\n",
       "<table border=\"1\" class=\"dataframe\">\n",
       "  <thead>\n",
       "    <tr style=\"text-align: right;\">\n",
       "      <th>Year_month</th>\n",
       "      <th>201012</th>\n",
       "      <th>201101</th>\n",
       "      <th>201102</th>\n",
       "      <th>201103</th>\n",
       "      <th>201104</th>\n",
       "      <th>201105</th>\n",
       "      <th>201106</th>\n",
       "      <th>201107</th>\n",
       "      <th>201108</th>\n",
       "      <th>201109</th>\n",
       "      <th>201110</th>\n",
       "      <th>201111</th>\n",
       "      <th>201112</th>\n",
       "      <th>Not Blank</th>\n",
       "    </tr>\n",
       "    <tr>\n",
       "      <th>Description</th>\n",
       "      <th></th>\n",
       "      <th></th>\n",
       "      <th></th>\n",
       "      <th></th>\n",
       "      <th></th>\n",
       "      <th></th>\n",
       "      <th></th>\n",
       "      <th></th>\n",
       "      <th></th>\n",
       "      <th></th>\n",
       "      <th></th>\n",
       "      <th></th>\n",
       "      <th></th>\n",
       "      <th></th>\n",
       "    </tr>\n",
       "  </thead>\n",
       "  <tbody>\n",
       "    <tr>\n",
       "      <th>OVAL WALL MIRROR DIAMANTE</th>\n",
       "      <td>22.0</td>\n",
       "      <td>23.0</td>\n",
       "      <td>17.0</td>\n",
       "      <td>16.0</td>\n",
       "      <td>25.0</td>\n",
       "      <td>44.0</td>\n",
       "      <td>17.0</td>\n",
       "      <td>18.0</td>\n",
       "      <td>11.0</td>\n",
       "      <td>NaN</td>\n",
       "      <td>11.0</td>\n",
       "      <td>21.0</td>\n",
       "      <td>7.0</td>\n",
       "      <td>12</td>\n",
       "    </tr>\n",
       "    <tr>\n",
       "      <th>SET 2 TEA TOWELS I LOVE LONDON</th>\n",
       "      <td>310.0</td>\n",
       "      <td>430.0</td>\n",
       "      <td>229.0</td>\n",
       "      <td>1111.0</td>\n",
       "      <td>332.0</td>\n",
       "      <td>317.0</td>\n",
       "      <td>60.0</td>\n",
       "      <td>NaN</td>\n",
       "      <td>NaN</td>\n",
       "      <td>NaN</td>\n",
       "      <td>NaN</td>\n",
       "      <td>NaN</td>\n",
       "      <td>NaN</td>\n",
       "      <td>7</td>\n",
       "    </tr>\n",
       "    <tr>\n",
       "      <th>SPACEBOY BABY GIFT SET</th>\n",
       "      <td>NaN</td>\n",
       "      <td>NaN</td>\n",
       "      <td>NaN</td>\n",
       "      <td>144.0</td>\n",
       "      <td>43.0</td>\n",
       "      <td>50.0</td>\n",
       "      <td>33.0</td>\n",
       "      <td>24.0</td>\n",
       "      <td>15.0</td>\n",
       "      <td>55.0</td>\n",
       "      <td>60.0</td>\n",
       "      <td>61.0</td>\n",
       "      <td>14.0</td>\n",
       "      <td>10</td>\n",
       "    </tr>\n",
       "    <tr>\n",
       "      <th>10 COLOUR SPACEBOY PEN</th>\n",
       "      <td>583.0</td>\n",
       "      <td>284.0</td>\n",
       "      <td>247.0</td>\n",
       "      <td>409.0</td>\n",
       "      <td>297.0</td>\n",
       "      <td>636.0</td>\n",
       "      <td>691.0</td>\n",
       "      <td>471.0</td>\n",
       "      <td>614.0</td>\n",
       "      <td>578.0</td>\n",
       "      <td>839.0</td>\n",
       "      <td>805.0</td>\n",
       "      <td>110.0</td>\n",
       "      <td>13</td>\n",
       "    </tr>\n",
       "    <tr>\n",
       "      <th>12 COLOURED PARTY BALLOONS</th>\n",
       "      <td>62.0</td>\n",
       "      <td>80.0</td>\n",
       "      <td>80.0</td>\n",
       "      <td>221.0</td>\n",
       "      <td>154.0</td>\n",
       "      <td>285.0</td>\n",
       "      <td>220.0</td>\n",
       "      <td>187.0</td>\n",
       "      <td>155.0</td>\n",
       "      <td>171.0</td>\n",
       "      <td>166.0</td>\n",
       "      <td>330.0</td>\n",
       "      <td>44.0</td>\n",
       "      <td>13</td>\n",
       "    </tr>\n",
       "    <tr>\n",
       "      <th>...</th>\n",
       "      <td>...</td>\n",
       "      <td>...</td>\n",
       "      <td>...</td>\n",
       "      <td>...</td>\n",
       "      <td>...</td>\n",
       "      <td>...</td>\n",
       "      <td>...</td>\n",
       "      <td>...</td>\n",
       "      <td>...</td>\n",
       "      <td>...</td>\n",
       "      <td>...</td>\n",
       "      <td>...</td>\n",
       "      <td>...</td>\n",
       "      <td>...</td>\n",
       "    </tr>\n",
       "    <tr>\n",
       "      <th>ZINC METAL HEART DECORATION</th>\n",
       "      <td>530.0</td>\n",
       "      <td>318.0</td>\n",
       "      <td>440.0</td>\n",
       "      <td>292.0</td>\n",
       "      <td>330.0</td>\n",
       "      <td>412.0</td>\n",
       "      <td>352.0</td>\n",
       "      <td>446.0</td>\n",
       "      <td>535.0</td>\n",
       "      <td>527.0</td>\n",
       "      <td>911.0</td>\n",
       "      <td>782.0</td>\n",
       "      <td>69.0</td>\n",
       "      <td>13</td>\n",
       "    </tr>\n",
       "    <tr>\n",
       "      <th>ZINC SWEETHEART WIRE LETTER RACK</th>\n",
       "      <td>NaN</td>\n",
       "      <td>NaN</td>\n",
       "      <td>NaN</td>\n",
       "      <td>NaN</td>\n",
       "      <td>40.0</td>\n",
       "      <td>37.0</td>\n",
       "      <td>9.0</td>\n",
       "      <td>47.0</td>\n",
       "      <td>35.0</td>\n",
       "      <td>26.0</td>\n",
       "      <td>22.0</td>\n",
       "      <td>40.0</td>\n",
       "      <td>7.0</td>\n",
       "      <td>9</td>\n",
       "    </tr>\n",
       "    <tr>\n",
       "      <th>ZINC T-LIGHT HOLDER STAR LARGE</th>\n",
       "      <td>NaN</td>\n",
       "      <td>NaN</td>\n",
       "      <td>NaN</td>\n",
       "      <td>NaN</td>\n",
       "      <td>55.0</td>\n",
       "      <td>423.0</td>\n",
       "      <td>185.0</td>\n",
       "      <td>116.0</td>\n",
       "      <td>333.0</td>\n",
       "      <td>230.0</td>\n",
       "      <td>399.0</td>\n",
       "      <td>233.0</td>\n",
       "      <td>86.0</td>\n",
       "      <td>9</td>\n",
       "    </tr>\n",
       "    <tr>\n",
       "      <th>ZINC T-LIGHT HOLDER STARS SMALL</th>\n",
       "      <td>NaN</td>\n",
       "      <td>NaN</td>\n",
       "      <td>NaN</td>\n",
       "      <td>NaN</td>\n",
       "      <td>327.0</td>\n",
       "      <td>1339.0</td>\n",
       "      <td>384.0</td>\n",
       "      <td>473.0</td>\n",
       "      <td>468.0</td>\n",
       "      <td>610.0</td>\n",
       "      <td>559.0</td>\n",
       "      <td>768.0</td>\n",
       "      <td>161.0</td>\n",
       "      <td>9</td>\n",
       "    </tr>\n",
       "    <tr>\n",
       "      <th>ZINC WILLIE WINKIE  CANDLE STICK</th>\n",
       "      <td>226.0</td>\n",
       "      <td>118.0</td>\n",
       "      <td>140.0</td>\n",
       "      <td>60.0</td>\n",
       "      <td>118.0</td>\n",
       "      <td>115.0</td>\n",
       "      <td>138.0</td>\n",
       "      <td>112.0</td>\n",
       "      <td>150.0</td>\n",
       "      <td>365.0</td>\n",
       "      <td>598.0</td>\n",
       "      <td>625.0</td>\n",
       "      <td>169.0</td>\n",
       "      <td>13</td>\n",
       "    </tr>\n",
       "  </tbody>\n",
       "</table>\n",
       "<p>1976 rows × 14 columns</p>\n",
       "</div>"
      ],
      "text/plain": [
       "Year_month                        201012  201101  201102  201103  201104  \\\n",
       "Description                                                                \n",
       " OVAL WALL MIRROR DIAMANTE          22.0    23.0    17.0    16.0    25.0   \n",
       " SET 2 TEA TOWELS I LOVE LONDON    310.0   430.0   229.0  1111.0   332.0   \n",
       " SPACEBOY BABY GIFT SET              NaN     NaN     NaN   144.0    43.0   \n",
       "10 COLOUR SPACEBOY PEN             583.0   284.0   247.0   409.0   297.0   \n",
       "12 COLOURED PARTY BALLOONS          62.0    80.0    80.0   221.0   154.0   \n",
       "...                                  ...     ...     ...     ...     ...   \n",
       "ZINC METAL HEART DECORATION        530.0   318.0   440.0   292.0   330.0   \n",
       "ZINC SWEETHEART WIRE LETTER RACK     NaN     NaN     NaN     NaN    40.0   \n",
       "ZINC T-LIGHT HOLDER STAR LARGE       NaN     NaN     NaN     NaN    55.0   \n",
       "ZINC T-LIGHT HOLDER STARS SMALL      NaN     NaN     NaN     NaN   327.0   \n",
       "ZINC WILLIE WINKIE  CANDLE STICK   226.0   118.0   140.0    60.0   118.0   \n",
       "\n",
       "Year_month                        201105  201106  201107  201108  201109  \\\n",
       "Description                                                                \n",
       " OVAL WALL MIRROR DIAMANTE          44.0    17.0    18.0    11.0     NaN   \n",
       " SET 2 TEA TOWELS I LOVE LONDON    317.0    60.0     NaN     NaN     NaN   \n",
       " SPACEBOY BABY GIFT SET             50.0    33.0    24.0    15.0    55.0   \n",
       "10 COLOUR SPACEBOY PEN             636.0   691.0   471.0   614.0   578.0   \n",
       "12 COLOURED PARTY BALLOONS         285.0   220.0   187.0   155.0   171.0   \n",
       "...                                  ...     ...     ...     ...     ...   \n",
       "ZINC METAL HEART DECORATION        412.0   352.0   446.0   535.0   527.0   \n",
       "ZINC SWEETHEART WIRE LETTER RACK    37.0     9.0    47.0    35.0    26.0   \n",
       "ZINC T-LIGHT HOLDER STAR LARGE     423.0   185.0   116.0   333.0   230.0   \n",
       "ZINC T-LIGHT HOLDER STARS SMALL   1339.0   384.0   473.0   468.0   610.0   \n",
       "ZINC WILLIE WINKIE  CANDLE STICK   115.0   138.0   112.0   150.0   365.0   \n",
       "\n",
       "Year_month                        201110  201111  201112  Not Blank  \n",
       "Description                                                          \n",
       " OVAL WALL MIRROR DIAMANTE          11.0    21.0     7.0         12  \n",
       " SET 2 TEA TOWELS I LOVE LONDON      NaN     NaN     NaN          7  \n",
       " SPACEBOY BABY GIFT SET             60.0    61.0    14.0         10  \n",
       "10 COLOUR SPACEBOY PEN             839.0   805.0   110.0         13  \n",
       "12 COLOURED PARTY BALLOONS         166.0   330.0    44.0         13  \n",
       "...                                  ...     ...     ...        ...  \n",
       "ZINC METAL HEART DECORATION        911.0   782.0    69.0         13  \n",
       "ZINC SWEETHEART WIRE LETTER RACK    22.0    40.0     7.0          9  \n",
       "ZINC T-LIGHT HOLDER STAR LARGE     399.0   233.0    86.0          9  \n",
       "ZINC T-LIGHT HOLDER STARS SMALL    559.0   768.0   161.0          9  \n",
       "ZINC WILLIE WINKIE  CANDLE STICK   598.0   625.0   169.0         13  \n",
       "\n",
       "[1976 rows x 14 columns]"
      ]
     },
     "execution_count": 38,
     "metadata": {},
     "output_type": "execute_result"
    }
   ],
   "source": [
    "data_purchased_stock_ts_reshaped.loc[data_purchased_stock_ts_reshaped['Not Blank']>6]"
   ]
  },
  {
   "cell_type": "markdown",
   "metadata": {},
   "source": [
    "#### Declaring the output dataframe"
   ]
  },
  {
   "cell_type": "code",
   "execution_count": 39,
   "metadata": {},
   "outputs": [],
   "source": [
    "pred_stock =pd.DataFrame()\n",
    "pred_stock.index.name = 'Description'\n",
    "pred_stock['Tplusone']=''\n",
    "pred_stock['Tplustwo']=''\n",
    "pred_stock['Tplusthree']=''"
   ]
  },
  {
   "cell_type": "markdown",
   "metadata": {},
   "source": [
    "### Forecasting demand\n",
    "<br>Points to be considered:\n",
    "<ol><li>We have considered Exponential Smoothing for forecasting demand</li>\n",
    "    <li>The smoothing level (Alpha) and smoothing slope (beta) are taken as default (alpha = 0.8, beta = 0.2)</li>\n",
    "    <li>The stock which sold for more than 6 months were considered.</li></ol>"
   ]
  },
  {
   "cell_type": "code",
   "execution_count": 40,
   "metadata": {
    "scrolled": true
   },
   "outputs": [],
   "source": [
    "for i in data_purchased_stock_ts_reshaped.loc[data_purchased_stock_ts_reshaped['Not Blank']>6].index.unique():\n",
    "    \n",
    "    X = data_purchased_stock_ts[['Year_month','Quantity']].loc[data_purchased_stock_ts['Description']==i].set_index(\n",
    "'Year_month')\n",
    "    fit2 = Holt(np.asarray(X), exponential=True).fit(smoothing_level=0.8, smoothing_slope=0.3, optimized=False)\n",
    "    predict=fit2.forecast(3)\n",
    "    A=list(predict)\n",
    "    pred_stock.loc[i]=A"
   ]
  },
  {
   "cell_type": "markdown",
   "metadata": {},
   "source": [
    "#### Predicted quantities (Stock Description wise) : for 2012 - Jan, Feb, Mar"
   ]
  },
  {
   "cell_type": "code",
   "execution_count": 41,
   "metadata": {
    "scrolled": true
   },
   "outputs": [
    {
     "data": {
      "text/html": [
       "<div>\n",
       "<style scoped>\n",
       "    .dataframe tbody tr th:only-of-type {\n",
       "        vertical-align: middle;\n",
       "    }\n",
       "\n",
       "    .dataframe tbody tr th {\n",
       "        vertical-align: top;\n",
       "    }\n",
       "\n",
       "    .dataframe thead th {\n",
       "        text-align: right;\n",
       "    }\n",
       "</style>\n",
       "<table border=\"1\" class=\"dataframe\">\n",
       "  <thead>\n",
       "    <tr style=\"text-align: right;\">\n",
       "      <th></th>\n",
       "      <th>Tplusone</th>\n",
       "      <th>Tplustwo</th>\n",
       "      <th>Tplusthree</th>\n",
       "    </tr>\n",
       "    <tr>\n",
       "      <th>Description</th>\n",
       "      <th></th>\n",
       "      <th></th>\n",
       "      <th></th>\n",
       "    </tr>\n",
       "  </thead>\n",
       "  <tbody>\n",
       "    <tr>\n",
       "      <th>OVAL WALL MIRROR DIAMANTE</th>\n",
       "      <td>11.085631</td>\n",
       "      <td>11.798827</td>\n",
       "      <td>12.557906</td>\n",
       "    </tr>\n",
       "    <tr>\n",
       "      <th>SET 2 TEA TOWELS I LOVE LONDON</th>\n",
       "      <td>141.574514</td>\n",
       "      <td>134.007979</td>\n",
       "      <td>126.845841</td>\n",
       "    </tr>\n",
       "    <tr>\n",
       "      <th>SPACEBOY BABY GIFT SET</th>\n",
       "      <td>28.391734</td>\n",
       "      <td>28.956269</td>\n",
       "      <td>29.532030</td>\n",
       "    </tr>\n",
       "    <tr>\n",
       "      <th>10 COLOUR SPACEBOY PEN</th>\n",
       "      <td>237.399944</td>\n",
       "      <td>207.775960</td>\n",
       "      <td>181.848609</td>\n",
       "    </tr>\n",
       "    <tr>\n",
       "      <th>12 COLOURED PARTY BALLOONS</th>\n",
       "      <td>106.356087</td>\n",
       "      <td>103.824257</td>\n",
       "      <td>101.352697</td>\n",
       "    </tr>\n",
       "    <tr>\n",
       "      <th>12 DAISY PEGS IN WOOD BOX</th>\n",
       "      <td>4.169816</td>\n",
       "      <td>3.271071</td>\n",
       "      <td>2.566037</td>\n",
       "    </tr>\n",
       "    <tr>\n",
       "      <th>12 EGG HOUSE PAINTED WOOD</th>\n",
       "      <td>8.801522</td>\n",
       "      <td>9.279096</td>\n",
       "      <td>9.782584</td>\n",
       "    </tr>\n",
       "    <tr>\n",
       "      <th>12 IVORY ROSE PEG PLACE SETTINGS</th>\n",
       "      <td>54.695776</td>\n",
       "      <td>51.752072</td>\n",
       "      <td>48.966797</td>\n",
       "    </tr>\n",
       "    <tr>\n",
       "      <th>12 MESSAGE CARDS WITH ENVELOPES</th>\n",
       "      <td>179.914689</td>\n",
       "      <td>196.854930</td>\n",
       "      <td>215.390215</td>\n",
       "    </tr>\n",
       "    <tr>\n",
       "      <th>12 PENCIL SMALL TUBE WOODLAND</th>\n",
       "      <td>2441.635794</td>\n",
       "      <td>5370.993610</td>\n",
       "      <td>11814.854788</td>\n",
       "    </tr>\n",
       "  </tbody>\n",
       "</table>\n",
       "</div>"
      ],
      "text/plain": [
       "                                     Tplusone     Tplustwo    Tplusthree\n",
       "Description                                                             \n",
       " OVAL WALL MIRROR DIAMANTE          11.085631    11.798827     12.557906\n",
       " SET 2 TEA TOWELS I LOVE LONDON    141.574514   134.007979    126.845841\n",
       " SPACEBOY BABY GIFT SET             28.391734    28.956269     29.532030\n",
       "10 COLOUR SPACEBOY PEN             237.399944   207.775960    181.848609\n",
       "12 COLOURED PARTY BALLOONS         106.356087   103.824257    101.352697\n",
       "12 DAISY PEGS IN WOOD BOX            4.169816     3.271071      2.566037\n",
       "12 EGG HOUSE PAINTED WOOD            8.801522     9.279096      9.782584\n",
       "12 IVORY ROSE PEG PLACE SETTINGS    54.695776    51.752072     48.966797\n",
       "12 MESSAGE CARDS WITH ENVELOPES    179.914689   196.854930    215.390215\n",
       "12 PENCIL SMALL TUBE WOODLAND     2441.635794  5370.993610  11814.854788"
      ]
     },
     "execution_count": 41,
     "metadata": {},
     "output_type": "execute_result"
    }
   ],
   "source": [
    "pred_stock.head(10)"
   ]
  },
  {
   "cell_type": "markdown",
   "metadata": {},
   "source": [
    "#### Exporting the result"
   ]
  },
  {
   "cell_type": "code",
   "execution_count": 42,
   "metadata": {},
   "outputs": [],
   "source": [
    "pred_stock.to_csv('outputs/Stock_Wise_Predicted_quant.csv')"
   ]
  },
  {
   "cell_type": "markdown",
   "metadata": {},
   "source": [
    "## End of the Assessment"
   ]
  }
 ],
 "metadata": {
  "kernelspec": {
   "display_name": "Python 3",
   "language": "python",
   "name": "python3"
  },
  "language_info": {
   "codemirror_mode": {
    "name": "ipython",
    "version": 3
   },
   "file_extension": ".py",
   "mimetype": "text/x-python",
   "name": "python",
   "nbconvert_exporter": "python",
   "pygments_lexer": "ipython3",
   "version": "3.7.7"
  }
 },
 "nbformat": 4,
 "nbformat_minor": 4
}
